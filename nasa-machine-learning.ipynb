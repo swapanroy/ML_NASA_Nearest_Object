{
 "cells": [
  {
   "cell_type": "code",
   "execution_count": null,
   "id": "7be36515",
   "metadata": {
    "papermill": {
     "duration": 0.005649,
     "end_time": "2022-06-27T20:16:57.989139",
     "exception": false,
     "start_time": "2022-06-27T20:16:57.983490",
     "status": "completed"
    },
    "tags": []
   },
   "outputs": [],
   "source": []
  },
  {
   "cell_type": "markdown",
   "id": "eef51303",
   "metadata": {
    "papermill": {
     "duration": 0.00419,
     "end_time": "2022-06-27T20:16:57.997905",
     "exception": false,
     "start_time": "2022-06-27T20:16:57.993715",
     "status": "completed"
    },
    "tags": []
   },
   "source": [
    "# Load Libraries "
   ]
  },
  {
   "cell_type": "code",
   "execution_count": 1,
   "id": "74284675",
   "metadata": {
    "execution": {
     "iopub.execute_input": "2022-06-27T20:16:58.009422Z",
     "iopub.status.busy": "2022-06-27T20:16:58.008585Z",
     "iopub.status.idle": "2022-06-27T20:16:59.466842Z",
     "shell.execute_reply": "2022-06-27T20:16:59.465915Z"
    },
    "papermill": {
     "duration": 1.467106,
     "end_time": "2022-06-27T20:16:59.469568",
     "exception": false,
     "start_time": "2022-06-27T20:16:58.002462",
     "status": "completed"
    },
    "tags": []
   },
   "outputs": [],
   "source": [
    "# Libraries needed for data Analysis \n",
    "import numpy as np # linear algebra\n",
    "import pandas as pd # data processing, CSV file I/O (e.g. pd.read_csv)\n",
    "\n",
    "# # Libraries needed for model and visualization\n",
    "from sklearn.preprocessing import StandardScaler, LabelEncoder\n",
    "from sklearn.model_selection import train_test_split\n",
    "from sklearn.ensemble import RandomForestClassifier , AdaBoostClassifier\n",
    "from sklearn.neighbors import KNeighborsClassifier\n",
    "from sklearn.linear_model import LogisticRegression\n",
    "from sklearn.linear_model import SGDClassifier\n",
    "from sklearn.model_selection import GridSearchCV\n",
    "from sklearn.naive_bayes import GaussianNB\n",
    "from sklearn.svm import SVC\n",
    "from sklearn.tree import DecisionTreeClassifier \n",
    "from sklearn.model_selection import cross_val_score\n",
    "from sklearn.model_selection import KFold \n",
    "from xgboost import XGBClassifier\n",
    "from sklearn.metrics import confusion_matrix, classification_report, make_scorer, accuracy_score\n",
    "import matplotlib.pyplot as plt # plots \n",
    "import seaborn as sns\n",
    "\n",
    "#ignore warnings\n",
    "import warnings\n",
    "warnings.filterwarnings('ignore')"
   ]
  },
  {
   "cell_type": "markdown",
   "id": "afb9f578",
   "metadata": {
    "papermill": {
     "duration": 0.004347,
     "end_time": "2022-06-27T20:16:59.478570",
     "exception": false,
     "start_time": "2022-06-27T20:16:59.474223",
     "status": "completed"
    },
    "tags": []
   },
   "source": [
    "# Read data"
   ]
  },
  {
   "cell_type": "code",
   "execution_count": 2,
   "id": "1b990e9f",
   "metadata": {
    "execution": {
     "iopub.execute_input": "2022-06-27T20:16:59.489396Z",
     "iopub.status.busy": "2022-06-27T20:16:59.488349Z",
     "iopub.status.idle": "2022-06-27T20:16:59.788929Z",
     "shell.execute_reply": "2022-06-27T20:16:59.787967Z"
    },
    "papermill": {
     "duration": 0.309348,
     "end_time": "2022-06-27T20:16:59.792238",
     "exception": false,
     "start_time": "2022-06-27T20:16:59.482890",
     "status": "completed"
    },
    "tags": []
   },
   "outputs": [
    {
     "name": "stdout",
     "output_type": "stream",
     "text": [
      "         id                 name  est_diameter_min  est_diameter_max  \\\n",
      "0   2162635  162635 (2000 SS164)          1.198271          2.679415   \n",
      "1   2277475    277475 (2005 WK4)          0.265800          0.594347   \n",
      "2   2512244   512244 (2015 YE18)          0.722030          1.614507   \n",
      "3   3596030          (2012 BV13)          0.096506          0.215794   \n",
      "4   3667127          (2014 GE35)          0.255009          0.570217   \n",
      "5  54138696          (2021 GY23)          0.036354          0.081291   \n",
      "6  54189957          (2021 PY40)          0.171615          0.383743   \n",
      "7  54230078           (2021 XD6)          0.005328          0.011914   \n",
      "8   2088213     88213 (2001 AF2)          0.350393          0.783502   \n",
      "9   3766065            (2016 YM)          0.105817          0.236614   \n",
      "\n",
      "   relative_velocity  miss_distance orbiting_body  sentry_object  \\\n",
      "0       13569.249224   5.483974e+07         Earth          False   \n",
      "1       73588.726663   6.143813e+07         Earth          False   \n",
      "2      114258.692129   4.979872e+07         Earth          False   \n",
      "3       24764.303138   2.543497e+07         Earth          False   \n",
      "4       42737.733765   4.627557e+07         Earth          False   \n",
      "5       34297.587778   4.058569e+07         Earth          False   \n",
      "6       27529.472307   2.906912e+07         Earth          False   \n",
      "7       57544.470083   5.511502e+07         Earth          False   \n",
      "8       56625.210122   6.903598e+07         Earth          False   \n",
      "9       48425.840329   3.835526e+07         Earth          False   \n",
      "\n",
      "   absolute_magnitude  hazardous  \n",
      "0               16.73      False  \n",
      "1               20.00       True  \n",
      "2               17.83      False  \n",
      "3               22.20      False  \n",
      "4               20.09       True  \n",
      "5               24.32      False  \n",
      "6               20.95      False  \n",
      "7               28.49      False  \n",
      "8               19.40      False  \n",
      "9               22.00      False  \n",
      "(90836, 10)\n",
      "<class 'pandas.core.frame.DataFrame'>\n",
      "RangeIndex: 90836 entries, 0 to 90835\n",
      "Data columns (total 10 columns):\n",
      " #   Column              Non-Null Count  Dtype  \n",
      "---  ------              --------------  -----  \n",
      " 0   id                  90836 non-null  int64  \n",
      " 1   name                90836 non-null  object \n",
      " 2   est_diameter_min    90836 non-null  float64\n",
      " 3   est_diameter_max    90836 non-null  float64\n",
      " 4   relative_velocity   90836 non-null  float64\n",
      " 5   miss_distance       90836 non-null  float64\n",
      " 6   orbiting_body       90836 non-null  object \n",
      " 7   sentry_object       90836 non-null  bool   \n",
      " 8   absolute_magnitude  90836 non-null  float64\n",
      " 9   hazardous           90836 non-null  bool   \n",
      "dtypes: bool(2), float64(5), int64(1), object(2)\n",
      "memory usage: 5.7+ MB\n"
     ]
    }
   ],
   "source": [
    "# Load in the red wine data from kaggle.\n",
    "df = pd.read_csv('../input/nasa-nearest-earth-objects/neo.csv',sep=',')\n",
    "\n",
    "# Review data\n",
    "print(df.head(10))\n",
    "# Data dimensionality (rows, colums)\n",
    "print(df.shape)\n",
    "# Data distributing\n",
    "df.info()\n"
   ]
  },
  {
   "cell_type": "markdown",
   "id": "5699be58",
   "metadata": {
    "papermill": {
     "duration": 0.004489,
     "end_time": "2022-06-27T20:16:59.802337",
     "exception": false,
     "start_time": "2022-06-27T20:16:59.797848",
     "status": "completed"
    },
    "tags": []
   },
   "source": [
    "# Check on nulls "
   ]
  },
  {
   "cell_type": "code",
   "execution_count": 3,
   "id": "bb5e2143",
   "metadata": {
    "execution": {
     "iopub.execute_input": "2022-06-27T20:16:59.813011Z",
     "iopub.status.busy": "2022-06-27T20:16:59.812678Z",
     "iopub.status.idle": "2022-06-27T20:16:59.838717Z",
     "shell.execute_reply": "2022-06-27T20:16:59.837130Z"
    },
    "papermill": {
     "duration": 0.03426,
     "end_time": "2022-06-27T20:16:59.841516",
     "exception": false,
     "start_time": "2022-06-27T20:16:59.807256",
     "status": "completed"
    },
    "tags": []
   },
   "outputs": [
    {
     "name": "stdout",
     "output_type": "stream",
     "text": [
      "Total Null values in the dataset :  0\n"
     ]
    }
   ],
   "source": [
    "print('Total Null values in the dataset : ',df.isna().sum().sum())"
   ]
  },
  {
   "cell_type": "markdown",
   "id": "b17a7867",
   "metadata": {
    "papermill": {
     "duration": 0.004432,
     "end_time": "2022-06-27T20:16:59.850896",
     "exception": false,
     "start_time": "2022-06-27T20:16:59.846464",
     "status": "completed"
    },
    "tags": []
   },
   "source": [
    "# Check on dupes"
   ]
  },
  {
   "cell_type": "code",
   "execution_count": 4,
   "id": "36834e5b",
   "metadata": {
    "execution": {
     "iopub.execute_input": "2022-06-27T20:16:59.861780Z",
     "iopub.status.busy": "2022-06-27T20:16:59.861493Z",
     "iopub.status.idle": "2022-06-27T20:16:59.908249Z",
     "shell.execute_reply": "2022-06-27T20:16:59.906965Z"
    },
    "papermill": {
     "duration": 0.054897,
     "end_time": "2022-06-27T20:16:59.910839",
     "exception": false,
     "start_time": "2022-06-27T20:16:59.855942",
     "status": "completed"
    },
    "tags": []
   },
   "outputs": [
    {
     "name": "stdout",
     "output_type": "stream",
     "text": [
      "Total duplicate values in the dataset :  0\n"
     ]
    }
   ],
   "source": [
    "print('Total duplicate values in the dataset : ',df.duplicated().sum())"
   ]
  },
  {
   "cell_type": "markdown",
   "id": "20dcbb3c",
   "metadata": {
    "papermill": {
     "duration": 0.005282,
     "end_time": "2022-06-27T20:16:59.921222",
     "exception": false,
     "start_time": "2022-06-27T20:16:59.915940",
     "status": "completed"
    },
    "tags": []
   },
   "source": [
    "# Understand the stats for each column"
   ]
  },
  {
   "cell_type": "code",
   "execution_count": 5,
   "id": "d5c6eba8",
   "metadata": {
    "execution": {
     "iopub.execute_input": "2022-06-27T20:16:59.932257Z",
     "iopub.status.busy": "2022-06-27T20:16:59.931918Z",
     "iopub.status.idle": "2022-06-27T20:16:59.985038Z",
     "shell.execute_reply": "2022-06-27T20:16:59.984034Z"
    },
    "papermill": {
     "duration": 0.060637,
     "end_time": "2022-06-27T20:16:59.987088",
     "exception": false,
     "start_time": "2022-06-27T20:16:59.926451",
     "status": "completed"
    },
    "tags": []
   },
   "outputs": [
    {
     "data": {
      "text/html": [
       "<div>\n",
       "<style scoped>\n",
       "    .dataframe tbody tr th:only-of-type {\n",
       "        vertical-align: middle;\n",
       "    }\n",
       "\n",
       "    .dataframe tbody tr th {\n",
       "        vertical-align: top;\n",
       "    }\n",
       "\n",
       "    .dataframe thead th {\n",
       "        text-align: right;\n",
       "    }\n",
       "</style>\n",
       "<table border=\"1\" class=\"dataframe\">\n",
       "  <thead>\n",
       "    <tr style=\"text-align: right;\">\n",
       "      <th></th>\n",
       "      <th>id</th>\n",
       "      <th>est_diameter_min</th>\n",
       "      <th>est_diameter_max</th>\n",
       "      <th>relative_velocity</th>\n",
       "      <th>miss_distance</th>\n",
       "      <th>absolute_magnitude</th>\n",
       "    </tr>\n",
       "  </thead>\n",
       "  <tbody>\n",
       "    <tr>\n",
       "      <th>count</th>\n",
       "      <td>9.083600e+04</td>\n",
       "      <td>90836.000000</td>\n",
       "      <td>90836.000000</td>\n",
       "      <td>90836.000000</td>\n",
       "      <td>9.083600e+04</td>\n",
       "      <td>90836.000000</td>\n",
       "    </tr>\n",
       "    <tr>\n",
       "      <th>mean</th>\n",
       "      <td>1.438288e+07</td>\n",
       "      <td>0.127432</td>\n",
       "      <td>0.284947</td>\n",
       "      <td>48066.918918</td>\n",
       "      <td>3.706655e+07</td>\n",
       "      <td>23.527103</td>\n",
       "    </tr>\n",
       "    <tr>\n",
       "      <th>std</th>\n",
       "      <td>2.087202e+07</td>\n",
       "      <td>0.298511</td>\n",
       "      <td>0.667491</td>\n",
       "      <td>25293.296961</td>\n",
       "      <td>2.235204e+07</td>\n",
       "      <td>2.894086</td>\n",
       "    </tr>\n",
       "    <tr>\n",
       "      <th>min</th>\n",
       "      <td>2.000433e+06</td>\n",
       "      <td>0.000609</td>\n",
       "      <td>0.001362</td>\n",
       "      <td>203.346433</td>\n",
       "      <td>6.745533e+03</td>\n",
       "      <td>9.230000</td>\n",
       "    </tr>\n",
       "    <tr>\n",
       "      <th>25%</th>\n",
       "      <td>3.448110e+06</td>\n",
       "      <td>0.019256</td>\n",
       "      <td>0.043057</td>\n",
       "      <td>28619.020645</td>\n",
       "      <td>1.721082e+07</td>\n",
       "      <td>21.340000</td>\n",
       "    </tr>\n",
       "    <tr>\n",
       "      <th>50%</th>\n",
       "      <td>3.748362e+06</td>\n",
       "      <td>0.048368</td>\n",
       "      <td>0.108153</td>\n",
       "      <td>44190.117890</td>\n",
       "      <td>3.784658e+07</td>\n",
       "      <td>23.700000</td>\n",
       "    </tr>\n",
       "    <tr>\n",
       "      <th>75%</th>\n",
       "      <td>3.884023e+06</td>\n",
       "      <td>0.143402</td>\n",
       "      <td>0.320656</td>\n",
       "      <td>62923.604633</td>\n",
       "      <td>5.654900e+07</td>\n",
       "      <td>25.700000</td>\n",
       "    </tr>\n",
       "    <tr>\n",
       "      <th>max</th>\n",
       "      <td>5.427591e+07</td>\n",
       "      <td>37.892650</td>\n",
       "      <td>84.730541</td>\n",
       "      <td>236990.128088</td>\n",
       "      <td>7.479865e+07</td>\n",
       "      <td>33.200000</td>\n",
       "    </tr>\n",
       "  </tbody>\n",
       "</table>\n",
       "</div>"
      ],
      "text/plain": [
       "                 id  est_diameter_min  est_diameter_max  relative_velocity  \\\n",
       "count  9.083600e+04      90836.000000      90836.000000       90836.000000   \n",
       "mean   1.438288e+07          0.127432          0.284947       48066.918918   \n",
       "std    2.087202e+07          0.298511          0.667491       25293.296961   \n",
       "min    2.000433e+06          0.000609          0.001362         203.346433   \n",
       "25%    3.448110e+06          0.019256          0.043057       28619.020645   \n",
       "50%    3.748362e+06          0.048368          0.108153       44190.117890   \n",
       "75%    3.884023e+06          0.143402          0.320656       62923.604633   \n",
       "max    5.427591e+07         37.892650         84.730541      236990.128088   \n",
       "\n",
       "       miss_distance  absolute_magnitude  \n",
       "count   9.083600e+04        90836.000000  \n",
       "mean    3.706655e+07           23.527103  \n",
       "std     2.235204e+07            2.894086  \n",
       "min     6.745533e+03            9.230000  \n",
       "25%     1.721082e+07           21.340000  \n",
       "50%     3.784658e+07           23.700000  \n",
       "75%     5.654900e+07           25.700000  \n",
       "max     7.479865e+07           33.200000  "
      ]
     },
     "execution_count": 5,
     "metadata": {},
     "output_type": "execute_result"
    }
   ],
   "source": [
    "df.describe()"
   ]
  },
  {
   "cell_type": "code",
   "execution_count": 6,
   "id": "75d70ca9",
   "metadata": {
    "execution": {
     "iopub.execute_input": "2022-06-27T20:16:59.999108Z",
     "iopub.status.busy": "2022-06-27T20:16:59.998419Z",
     "iopub.status.idle": "2022-06-27T20:17:09.315809Z",
     "shell.execute_reply": "2022-06-27T20:17:09.314895Z"
    },
    "papermill": {
     "duration": 9.325651,
     "end_time": "2022-06-27T20:17:09.317961",
     "exception": false,
     "start_time": "2022-06-27T20:16:59.992310",
     "status": "completed"
    },
    "tags": []
   },
   "outputs": [
    {
     "data": {
      "image/png": "[encoded data removed]",
      "text/plain": [
       "<Figure size 360x288 with 6 Axes>"
      ]
     },
     "metadata": {
      "needs_background": "light"
     },
     "output_type": "display_data"
    },
    {
     "data": {
      "image/png": "[encoded data removed]",
      "text/plain": [
       "<Figure size 432x288 with 12 Axes>"
      ]
     },
     "metadata": {
      "needs_background": "light"
     },
     "output_type": "display_data"
    }
   ],
   "source": [
    "# Histograms\n",
    "df.hist(bins=10,figsize=(5, 4))\n",
    "plt.show()\n",
    "# Density\n",
    "df.plot(kind='density', subplots=True, layout=(4,3), sharex=False)\n",
    "plt.show()"
   ]
  },
  {
   "cell_type": "code",
   "execution_count": 7,
   "id": "5b083399",
   "metadata": {
    "execution": {
     "iopub.execute_input": "2022-06-27T20:17:09.331965Z",
     "iopub.status.busy": "2022-06-27T20:17:09.330614Z",
     "iopub.status.idle": "2022-06-27T20:17:09.339905Z",
     "shell.execute_reply": "2022-06-27T20:17:09.338674Z"
    },
    "papermill": {
     "duration": 0.018766,
     "end_time": "2022-06-27T20:17:09.342508",
     "exception": false,
     "start_time": "2022-06-27T20:17:09.323742",
     "status": "completed"
    },
    "tags": []
   },
   "outputs": [
    {
     "name": "stdout",
     "output_type": "stream",
     "text": [
      "(90836, 4) (90836,)\n"
     ]
    }
   ],
   "source": [
    "# Split into X,y, removing unwanted columns and tarnsforming Hazardous data into int from bool\n",
    "\n",
    "X = df.drop(['id','name','est_diameter_max','orbiting_body','sentry_object','hazardous'],axis=1) \n",
    "\n",
    "y = df.hazardous.astype('int')\n",
    "print(X.shape,y.shape)"
   ]
  },
  {
   "cell_type": "markdown",
   "id": "7c8b8d7e",
   "metadata": {
    "papermill": {
     "duration": 0.005359,
     "end_time": "2022-06-27T20:17:09.354149",
     "exception": false,
     "start_time": "2022-06-27T20:17:09.348790",
     "status": "completed"
    },
    "tags": []
   },
   "source": [
    "# Split into Test and Train sets"
   ]
  },
  {
   "cell_type": "code",
   "execution_count": 8,
   "id": "8a61d7e3",
   "metadata": {
    "execution": {
     "iopub.execute_input": "2022-06-27T20:17:09.366877Z",
     "iopub.status.busy": "2022-06-27T20:17:09.365966Z",
     "iopub.status.idle": "2022-06-27T20:17:09.384291Z",
     "shell.execute_reply": "2022-06-27T20:17:09.383376Z"
    },
    "papermill": {
     "duration": 0.026843,
     "end_time": "2022-06-27T20:17:09.386454",
     "exception": false,
     "start_time": "2022-06-27T20:17:09.359611",
     "status": "completed"
    },
    "tags": []
   },
   "outputs": [
    {
     "name": "stdout",
     "output_type": "stream",
     "text": [
      "(81752, 4)\n",
      "(81752,)\n",
      "(9084, 4)\n",
      "(9084,)\n"
     ]
    },
    {
     "data": {
      "text/plain": [
       "(None, None)"
      ]
     },
     "execution_count": 8,
     "metadata": {},
     "output_type": "execute_result"
    }
   ],
   "source": [
    "# 90:10\n",
    "\n",
    "X_train, X_test, y_train, y_test = train_test_split(X,\n",
    "                                                    y, test_size = 0.1, random_state = 42)\n",
    "print(X_train.shape), print(y_train.shape)\n",
    "print(X_test.shape), print(y_test.shape)"
   ]
  },
  {
   "cell_type": "code",
   "execution_count": 9,
   "id": "4c14fd2b",
   "metadata": {
    "execution": {
     "iopub.execute_input": "2022-06-27T20:17:09.399058Z",
     "iopub.status.busy": "2022-06-27T20:17:09.398770Z",
     "iopub.status.idle": "2022-06-27T20:27:16.329376Z",
     "shell.execute_reply": "2022-06-27T20:27:16.328306Z"
    },
    "papermill": {
     "duration": 606.939801,
     "end_time": "2022-06-27T20:27:16.332054",
     "exception": false,
     "start_time": "2022-06-27T20:17:09.392253",
     "status": "completed"
    },
    "tags": []
   },
   "outputs": [
    {
     "name": "stdout",
     "output_type": "stream",
     "text": [
      "XGBClassifier: 0.918240 (0.003172)\n",
      "SupportVectorClassifier: 0.902290 (0.002680)\n",
      "RandomForestClassifier: 0.915990 (0.003181)\n",
      "DecisionTreeClassifier: 0.893458 (0.003579)\n",
      "AdaBoostClassifier: 0.912124 (0.002833)\n",
      "KNeighborsClassifier: 0.894290 (0.002782)\n",
      "GaussianNB: 0.896969 (0.003651)\n",
      "LogisticRegression: 0.902290 (0.002680)\n"
     ]
    },
    {
     "data": {
      "image/png": "[encoded data removed]",
      "text/plain": [
       "<Figure size 432x288 with 1 Axes>"
      ]
     },
     "metadata": {
      "needs_background": "light"
     },
     "output_type": "display_data"
    }
   ],
   "source": [
    "# prepare configuration for cross validation test harness\n",
    "seed = 7\n",
    "# prepare models\n",
    "models = []\n",
    "models.append(('XGBClassifier', XGBClassifier())) \n",
    "models.append(('SupportVectorClassifier', SVC()))\n",
    "models.append(('RandomForestClassifier', RandomForestClassifier()))\n",
    "models.append(('DecisionTreeClassifier', DecisionTreeClassifier()))\n",
    "models.append(('AdaBoostClassifier', AdaBoostClassifier()))\n",
    "models.append(('KNeighborsClassifier', KNeighborsClassifier()))\n",
    "models.append(('GaussianNB', GaussianNB()))\n",
    "models.append(('LogisticRegression', LogisticRegression()))\n",
    "\n",
    "\n",
    "# evaluate each model in turn\n",
    "results = []\n",
    "names = []\n",
    "scoring = 'accuracy'\n",
    "\n",
    "for name, model in models:\n",
    "   kfold = KFold(n_splits=10,shuffle=True, random_state=seed)\n",
    "   cv_results = cross_val_score(model, X_train, y_train, cv=kfold, scoring=scoring)\n",
    "   results.append(cv_results)\n",
    "   names.append(name)\n",
    "   msg = \"%s: %f (%f)\" % (name, cv_results.mean(), cv_results.std())\n",
    "   print(msg)\n",
    "# boxplot algorithm comparison\n",
    "fig = plt.figure()\n",
    "fig.suptitle('Algorithm Comparison')\n",
    "ax = fig.add_subplot(111)\n",
    "plt.boxplot(results)\n",
    "ax.set_xticklabels(names)\n",
    "plt.show()"
   ]
  },
  {
   "cell_type": "code",
   "execution_count": null,
   "id": "fffdbcfb",
   "metadata": {
    "execution": {
     "iopub.execute_input": "2022-06-27T19:01:16.852477Z",
     "iopub.status.busy": "2022-06-27T19:01:16.852130Z"
    },
    "papermill": {
     "duration": 0.006359,
     "end_time": "2022-06-27T20:27:16.345096",
     "exception": false,
     "start_time": "2022-06-27T20:27:16.338737",
     "status": "completed"
    },
    "tags": []
   },
   "outputs": [],
   "source": []
  },
  {
   "cell_type": "code",
   "execution_count": null,
   "id": "4305ca25",
   "metadata": {
    "papermill": {
     "duration": 0.006184,
     "end_time": "2022-06-27T20:27:16.358084",
     "exception": false,
     "start_time": "2022-06-27T20:27:16.351900",
     "status": "completed"
    },
    "tags": []
   },
   "outputs": [],
   "source": []
  },
  {
   "cell_type": "code",
   "execution_count": 10,
   "id": "a99e5d7c",
   "metadata": {
    "execution": {
     "iopub.execute_input": "2022-06-27T20:27:16.372580Z",
     "iopub.status.busy": "2022-06-27T20:27:16.372252Z",
     "iopub.status.idle": "2022-06-27T20:27:20.663371Z",
     "shell.execute_reply": "2022-06-27T20:27:20.662633Z"
    },
    "papermill": {
     "duration": 4.301294,
     "end_time": "2022-06-27T20:27:20.665966",
     "exception": false,
     "start_time": "2022-06-27T20:27:16.364672",
     "status": "completed"
    },
    "tags": []
   },
   "outputs": [
    {
     "name": "stdout",
     "output_type": "stream",
     "text": [
      "92.08\n"
     ]
    }
   ],
   "source": [
    "XGBC = XGBClassifier()\n",
    "XGBC.fit(X_train, y_train)\n",
    "XGBC_pred = XGBC.predict(X_test)\n",
    "accuracy = round(accuracy_score(XGBC_pred, y_test) * 100, 2)\n",
    "print(accuracy)"
   ]
  },
  {
   "cell_type": "code",
   "execution_count": 11,
   "id": "eadbfec4",
   "metadata": {
    "execution": {
     "iopub.execute_input": "2022-06-27T20:27:20.682697Z",
     "iopub.status.busy": "2022-06-27T20:27:20.682349Z",
     "iopub.status.idle": "2022-06-27T20:27:31.044351Z",
     "shell.execute_reply": "2022-06-27T20:27:31.043469Z"
    },
    "papermill": {
     "duration": 10.372152,
     "end_time": "2022-06-27T20:27:31.046482",
     "exception": false,
     "start_time": "2022-06-27T20:27:20.674330",
     "status": "completed"
    },
    "tags": []
   },
   "outputs": [
    {
     "name": "stdout",
     "output_type": "stream",
     "text": [
      "Accuracy score 90.58\n"
     ]
    }
   ],
   "source": [
    "XGBC = XGBClassifier()\n",
    "XGBC.fit(X_train, y_train)\n",
    "pred_XGBC = XGBC.predict(X_test)\n",
    "\n",
    "# Cross-validation\n",
    "scores = cross_val_score(XGBC,X_test,y_test, cv=12)\n",
    "print('Accuracy score',round(scores.mean() * 100,2))"
   ]
  },
  {
   "cell_type": "code",
   "execution_count": 12,
   "id": "849ae0c7",
   "metadata": {
    "execution": {
     "iopub.execute_input": "2022-06-27T20:27:31.062888Z",
     "iopub.status.busy": "2022-06-27T20:27:31.062591Z",
     "iopub.status.idle": "2022-06-27T20:28:02.496994Z",
     "shell.execute_reply": "2022-06-27T20:28:02.496023Z"
    },
    "papermill": {
     "duration": 31.451034,
     "end_time": "2022-06-27T20:28:02.505735",
     "exception": false,
     "start_time": "2022-06-27T20:27:31.054701",
     "status": "completed"
    },
    "tags": []
   },
   "outputs": [
    {
     "name": "stdout",
     "output_type": "stream",
     "text": [
      "Accuracy score 91.2\n"
     ]
    }
   ],
   "source": [
    "ada_classifier = AdaBoostClassifier(n_estimators=250)\n",
    "ada_classifier.fit(X_train, y_train)\n",
    "pred_ada = ada_classifier.predict(X_test)\n",
    "\n",
    "# Cross-validation\n",
    "scores = cross_val_score(ada_classifier,X_test,y_test, cv=12)\n",
    "print('Accuracy score',round(scores.mean() * 100,2))"
   ]
  }
 ],
 "metadata": {
  "kernelspec": {
   "display_name": "Python 3",
   "language": "python",
   "name": "python3"
  },
  "language_info": {
   "codemirror_mode": {
    "name": "ipython",
    "version": 3
   },
   "file_extension": ".py",
   "mimetype": "text/x-python",
   "name": "python",
   "nbconvert_exporter": "python",
   "pygments_lexer": "ipython3",
   "version": "3.7.12"
  },
  "papermill": {
   "default_parameters": {},
   "duration": 674.300802,
   "end_time": "2022-06-27T20:28:03.735502",
   "environment_variables": {},
   "exception": null,
   "input_path": "__notebook__.ipynb",
   "output_path": "__notebook__.ipynb",
   "parameters": {},
   "start_time": "2022-06-27T20:16:49.434700",
   "version": "2.3.4"
  }
 },
 "nbformat": 4,
 "nbformat_minor": 5
}
